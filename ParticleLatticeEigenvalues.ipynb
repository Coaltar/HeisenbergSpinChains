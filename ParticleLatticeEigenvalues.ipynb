{
 "cells": [
  {
   "cell_type": "markdown",
   "id": "748b1719",
   "metadata": {},
   "source": [
    "# Calculating Energy Eigenvalues for Many Particle System"
   ]
  },
  {
   "cell_type": "markdown",
   "id": "96ffba97",
   "metadata": {},
   "source": [
    "## Current Goals\n",
    "\n",
    "Immediate Goals:\n",
    "- Implement Sparse Matrices from Scipy\n",
    "- Check values up to 4 particles\n",
    "Other Goals:\n",
    "- Add latex in the markup sections\n",
    "\n",
    "## Program Structure & Functions\n",
    "\n",
    "Re-write this section"
   ]
  },
  {
   "cell_type": "markdown",
   "id": "2a9df6aa",
   "metadata": {},
   "source": [
    "## Imports and Dependencies\n"
   ]
  },
  {
   "cell_type": "code",
   "execution_count": 30,
   "id": "4d974a1f",
   "metadata": {},
   "outputs": [],
   "source": [
    "import numpy as np\n",
    "import seaborn as sns\n",
    "import scipy as scp\n",
    "import pandas as pd\n",
    "import matplotlib.pyplot as plt"
   ]
  },
  {
   "cell_type": "markdown",
   "id": "f5e17be6",
   "metadata": {},
   "source": [
    "## Global Constants"
   ]
  },
  {
   "cell_type": "code",
   "execution_count": 10,
   "id": "16fe53b6",
   "metadata": {},
   "outputs": [
    {
     "name": "stdout",
     "output_type": "stream",
     "text": [
      "[[0.+0.j 1.+0.j]\n",
      " [1.+0.j 0.+0.j]] \n",
      "\n",
      "[[0.+0.j 0.-1.j]\n",
      " [0.+1.j 0.+0.j]] \n",
      "\n",
      "[[ 1.+0.j  0.+0.j]\n",
      " [ 0.+0.j -1.+0.j]] \n",
      "\n"
     ]
    }
   ],
   "source": [
    "spin_x = np.array(([0+0j,1+0j],[1+0j,0+0j]))\n",
    "spin_y = np.array(([0+0j,0-1j],[0+1j,0+0j]))\n",
    "spin_z = np.array(([1+0j,0+0j],[0+0j,-1+0j]))\n",
    "\n",
    "print(spin_x, \"\\n\")\n",
    "print(spin_y, \"\\n\")\n",
    "print(spin_z, \"\\n\")"
   ]
  },
  {
   "cell_type": "markdown",
   "id": "c30c5b37",
   "metadata": {},
   "source": [
    "# Inner Product Function\n",
    "\n",
    "- Accepts\n",
    "    - Spin Index I | Not used yet\n",
    "    - Spin Index J | Not used yet \n",
    "    - Axis | must be single char, x, y, z\n",
    "    - Number of particles in lattice n"
   ]
  },
  {
   "cell_type": "code",
   "execution_count": 11,
   "id": "92560ba0",
   "metadata": {},
   "outputs": [],
   "source": [
    "def matrix_expansion(matrix_a, matrix_b):\n",
    "    quadrant_1 = matrix_a[0][0] * matrix_b\n",
    "    quadrant_2 = matrix_a[0][1] * matrix_b\n",
    "    quadrant_3 = matrix_a[1][0] * matrix_b\n",
    "    quadrant_4 = matrix_a[1][1] * matrix_b\n",
    "    \n",
    "    top_half = np.concatenate((quadrant_1, quadrant_2), axis=1)\n",
    "    bottom_half = np.concatenate((quadrant_3, quadrant_4), axis=1)\n",
    "    return np.concatenate((top_half, bottom_half))\n",
    "    \n",
    "def elem_from_index(index, i, j, spin):\n",
    "    if(index == i or index == j):\n",
    "        return spin\n",
    "    else:\n",
    "        return np.identity(2)\n",
    "\n",
    "def axis_inner_product(spin_axis, i, j, particles: int):\n",
    "    \n",
    "    partial_product = elem_from_index(particles-1, i, j, spin_axis)\n",
    "    \n",
    "    for x in range(particles-2, -1, -1):\n",
    "        new_elem = elem_from_index(x, i, j, spin_axis)\n",
    "        partial_product = matrix_expansion(new_elem, partial_product)\n",
    "\n",
    "    return partial_product\n"
   ]
  },
  {
   "cell_type": "code",
   "execution_count": 12,
   "id": "e3e3fcfb",
   "metadata": {
    "scrolled": true
   },
   "outputs": [
    {
     "name": "stdout",
     "output_type": "stream",
     "text": [
      "[[0. 0. 0. 1. 0. 0. 0. 0.]\n",
      " [0. 0. 1. 0. 0. 0. 0. 0.]\n",
      " [0. 1. 0. 0. 0. 0. 0. 0.]\n",
      " [1. 0. 0. 0. 0. 0. 0. 0.]\n",
      " [0. 0. 0. 0. 0. 0. 0. 1.]\n",
      " [0. 0. 0. 0. 0. 0. 1. 0.]\n",
      " [0. 0. 0. 0. 0. 1. 0. 0.]\n",
      " [0. 0. 0. 0. 1. 0. 0. 0.]]\n",
      "[[ 0.  0.  0. -1.  0.  0.  0.  0.]\n",
      " [ 0.  0.  1.  0.  0.  0.  0.  0.]\n",
      " [ 0.  1.  0.  0.  0.  0.  0.  0.]\n",
      " [-1.  0.  0.  0. -0.  0.  0.  0.]\n",
      " [ 0.  0.  0.  0.  0.  0.  0. -1.]\n",
      " [ 0.  0.  0.  0.  0.  0.  1.  0.]\n",
      " [ 0.  0.  0.  0.  0.  1.  0.  0.]\n",
      " [-0.  0.  0.  0. -1.  0.  0.  0.]]\n",
      "[[ 1.  0.  0.  0.  0.  0.  0.  0.]\n",
      " [ 0. -1.  0. -0.  0. -0.  0. -0.]\n",
      " [ 0.  0. -1. -0.  0.  0. -0. -0.]\n",
      " [ 0. -0. -0.  1.  0. -0. -0.  0.]\n",
      " [ 0.  0.  0.  0.  1.  0.  0.  0.]\n",
      " [ 0. -0.  0. -0.  0. -1.  0. -0.]\n",
      " [ 0.  0. -0. -0.  0.  0. -1. -0.]\n",
      " [ 0. -0. -0.  0.  0. -0. -0.  1.]]\n"
     ]
    }
   ],
   "source": [
    "#np.set_printoptions(precision=0, suppress=True)\n",
    "\n",
    "print(np.real(axis_inner_product(spin_x,1,2,3)))\n",
    "print(np.real(axis_inner_product(spin_y,1,2,3)))\n",
    "print(np.real(axis_inner_product(spin_z,1,2,3)))\n",
    "\n"
   ]
  },
  {
   "cell_type": "markdown",
   "id": "b96750da",
   "metadata": {},
   "source": [
    "# Summing the Hamiltonian\n"
   ]
  },
  {
   "cell_type": "code",
   "execution_count": 19,
   "id": "163bc0d9",
   "metadata": {},
   "outputs": [],
   "source": [
    "def hamiltonian_sum(lattice_size, cyclic):\n",
    "    matrix_size = 2**lattice_size\n",
    "    matrix_sum = np.zeros((matrix_size, matrix_size))\n",
    "    for x in range(lattice_size - 1):\n",
    "        i = x\n",
    "        j = x + 1\n",
    "        matrix_sum = np.add(matrix_sum, axis_inner_product(spin_x, i,j,lattice_size))\n",
    "        matrix_sum = np.add(matrix_sum, axis_inner_product(spin_y, i,j,lattice_size))\n",
    "        matrix_sum = np.add(matrix_sum, axis_inner_product(spin_z, i,j,lattice_size))\n",
    "    return matrix_sum\n",
    "        \n",
    "        "
   ]
  },
  {
   "cell_type": "code",
   "execution_count": 20,
   "id": "3845f359",
   "metadata": {},
   "outputs": [
    {
     "name": "stdout",
     "output_type": "stream",
     "text": [
      "[[ 3.+0.j  0.+0.j  0.+0.j  0.+0.j  0.+0.j  0.+0.j  0.+0.j  0.+0.j  0.+0.j\n",
      "   0.+0.j  0.+0.j  0.+0.j  0.+0.j  0.+0.j  0.+0.j  0.+0.j]\n",
      " [ 0.+0.j  1.+0.j  2.+0.j  0.+0.j  0.+0.j  0.+0.j  0.+0.j  0.+0.j  0.+0.j\n",
      "   0.+0.j  0.+0.j  0.+0.j  0.+0.j  0.+0.j  0.+0.j  0.+0.j]\n",
      " [ 0.+0.j  2.+0.j -1.+0.j  0.+0.j  2.+0.j  0.+0.j  0.+0.j  0.+0.j  0.+0.j\n",
      "   0.+0.j  0.+0.j  0.+0.j  0.+0.j  0.+0.j  0.+0.j  0.+0.j]\n",
      " [ 0.+0.j  0.+0.j  0.+0.j  1.+0.j  0.+0.j  2.+0.j  0.+0.j  0.+0.j  0.+0.j\n",
      "   0.+0.j  0.+0.j  0.+0.j  0.+0.j  0.+0.j  0.+0.j  0.+0.j]\n",
      " [ 0.+0.j  0.+0.j  2.+0.j  0.+0.j -1.+0.j  0.+0.j  0.+0.j  0.+0.j  2.+0.j\n",
      "   0.+0.j  0.+0.j  0.+0.j  0.+0.j  0.+0.j  0.+0.j  0.+0.j]\n",
      " [ 0.+0.j  0.+0.j  0.+0.j  2.+0.j  0.+0.j -3.+0.j  2.+0.j  0.+0.j  0.+0.j\n",
      "   2.+0.j  0.+0.j  0.+0.j  0.+0.j  0.+0.j  0.+0.j  0.+0.j]\n",
      " [ 0.+0.j  0.+0.j  0.+0.j  0.+0.j  0.+0.j  2.+0.j -1.+0.j  0.+0.j  0.+0.j\n",
      "   0.+0.j  2.+0.j  0.+0.j  0.+0.j  0.+0.j  0.+0.j  0.+0.j]\n",
      " [ 0.+0.j  0.+0.j  0.+0.j  0.+0.j  0.+0.j  0.+0.j  0.+0.j  1.+0.j  0.+0.j\n",
      "   0.+0.j  0.+0.j  2.+0.j  0.+0.j  0.+0.j  0.+0.j  0.+0.j]\n",
      " [ 0.+0.j  0.+0.j  0.+0.j  0.+0.j  2.+0.j  0.+0.j  0.+0.j  0.+0.j  1.+0.j\n",
      "   0.+0.j  0.+0.j  0.+0.j  0.+0.j  0.+0.j  0.+0.j  0.+0.j]\n",
      " [ 0.+0.j  0.+0.j  0.+0.j  0.+0.j  0.+0.j  2.+0.j  0.+0.j  0.+0.j  0.+0.j\n",
      "  -1.+0.j  2.+0.j  0.+0.j  0.+0.j  0.+0.j  0.+0.j  0.+0.j]\n",
      " [ 0.+0.j  0.+0.j  0.+0.j  0.+0.j  0.+0.j  0.+0.j  2.+0.j  0.+0.j  0.+0.j\n",
      "   2.+0.j -3.+0.j  0.+0.j  2.+0.j  0.+0.j  0.+0.j  0.+0.j]\n",
      " [ 0.+0.j  0.+0.j  0.+0.j  0.+0.j  0.+0.j  0.+0.j  0.+0.j  2.+0.j  0.+0.j\n",
      "   0.+0.j  0.+0.j -1.+0.j  0.+0.j  2.+0.j  0.+0.j  0.+0.j]\n",
      " [ 0.+0.j  0.+0.j  0.+0.j  0.+0.j  0.+0.j  0.+0.j  0.+0.j  0.+0.j  0.+0.j\n",
      "   0.+0.j  2.+0.j  0.+0.j  1.+0.j  0.+0.j  0.+0.j  0.+0.j]\n",
      " [ 0.+0.j  0.+0.j  0.+0.j  0.+0.j  0.+0.j  0.+0.j  0.+0.j  0.+0.j  0.+0.j\n",
      "   0.+0.j  0.+0.j  2.+0.j  0.+0.j -1.+0.j  2.+0.j  0.+0.j]\n",
      " [ 0.+0.j  0.+0.j  0.+0.j  0.+0.j  0.+0.j  0.+0.j  0.+0.j  0.+0.j  0.+0.j\n",
      "   0.+0.j  0.+0.j  0.+0.j  0.+0.j  2.+0.j  1.+0.j  0.+0.j]\n",
      " [ 0.+0.j  0.+0.j  0.+0.j  0.+0.j  0.+0.j  0.+0.j  0.+0.j  0.+0.j  0.+0.j\n",
      "   0.+0.j  0.+0.j  0.+0.j  0.+0.j  0.+0.j  0.+0.j  3.+0.j]]\n"
     ]
    },
    {
     "data": {
      "text/plain": [
       "<AxesSubplot: >"
      ]
     },
     "execution_count": 20,
     "metadata": {},
     "output_type": "execute_result"
    },
    {
     "data": {
      "image/png": "[encoded data removed]",
      "text/plain": [
       "<Figure size 640x480 with 2 Axes>"
      ]
     },
     "metadata": {},
     "output_type": "display_data"
    }
   ],
   "source": [
    "m = hamiltonian_sum(4,False)\n",
    "print(m)\n",
    "sns.heatmap(np.abs(m))\n",
    "\n",
    "\n",
    "# write routine to check for hermitian (transpose and complex conjugate )\n",
    "# numpy similarity function\n"
   ]
  },
  {
   "cell_type": "code",
   "execution_count": 21,
   "id": "2f08e533",
   "metadata": {},
   "outputs": [
    {
     "ename": "NameError",
     "evalue": "name 'Z' is not defined",
     "output_type": "error",
     "traceback": [
      "\u001b[0;31m---------------------------------------------------------------------------\u001b[0m",
      "\u001b[0;31mNameError\u001b[0m                                 Traceback (most recent call last)",
      "Cell \u001b[0;32mIn[21], line 14\u001b[0m\n\u001b[1;32m     11\u001b[0m X, Y \u001b[38;5;241m=\u001b[39m np\u001b[38;5;241m.\u001b[39mmeshgrid(X, Y)\n\u001b[1;32m     13\u001b[0m R \u001b[38;5;241m=\u001b[39m m[X][Y]\n\u001b[0;32m---> 14\u001b[0m surf \u001b[38;5;241m=\u001b[39m ax\u001b[38;5;241m.\u001b[39mplot_surface(X, Y, \u001b[43mZ\u001b[49m, cmap\u001b[38;5;241m=\u001b[39mcm\u001b[38;5;241m.\u001b[39mcoolwarm,\n\u001b[1;32m     15\u001b[0m                        linewidth\u001b[38;5;241m=\u001b[39m\u001b[38;5;241m1\u001b[39m, antialiased\u001b[38;5;241m=\u001b[39m\u001b[38;5;28;01mTrue\u001b[39;00m)\n\u001b[1;32m     17\u001b[0m fig\u001b[38;5;241m.\u001b[39mcolorbar(surf, shrink\u001b[38;5;241m=\u001b[39m\u001b[38;5;241m0.2\u001b[39m, aspect\u001b[38;5;241m=\u001b[39m\u001b[38;5;241m5\u001b[39m)\n\u001b[1;32m     19\u001b[0m \u001b[38;5;28mprint\u001b[39m(m)\n",
      "\u001b[0;31mNameError\u001b[0m: name 'Z' is not defined"
     ]
    },
    {
     "data": {
      "image/png": "[encoded data removed]",
      "text/plain": [
       "<Figure size 640x480 with 1 Axes>"
      ]
     },
     "metadata": {},
     "output_type": "display_data"
    }
   ],
   "source": [
    "import matplotlib.pyplot as plt\n",
    "from matplotlib import cm\n",
    "from matplotlib.ticker import LinearLocator\n",
    "import numpy as np\n",
    "\n",
    "fig, ax = plt.subplots(subplot_kw={\"projection\": \"3d\"})\n",
    "\n",
    "S = 3\n",
    "X = np.arange(0, S, 1)\n",
    "Y = np.arange(0, S, 1)\n",
    "X, Y = np.meshgrid(X, Y)\n",
    "\n",
    "R = m[X][Y]\n",
    "surf = ax.plot_surface(X, Y, Z, cmap=cm.coolwarm,\n",
    "                       linewidth=1, antialiased=True)\n",
    "\n",
    "fig.colorbar(surf, shrink=0.2, aspect=5)\n",
    "\n",
    "print(m)"
   ]
  },
  {
   "cell_type": "code",
   "execution_count": 22,
   "id": "35c7cb49",
   "metadata": {},
   "outputs": [
    {
     "data": {
      "text/plain": [
       "(array([-3.82842712+0.j, -1.        +0.j,  3.        +0.j,  1.82842712+0.j,\n",
       "        -3.82842712+0.j, -1.        +0.j,  3.        +0.j,  1.82842712+0.j,\n",
       "        -6.46410162+0.j, -3.82842712+0.j,  3.        +0.j, -1.        +0.j,\n",
       "         1.82842712+0.j,  0.46410162+0.j,  3.        +0.j,  3.        +0.j]),\n",
       " array([[ 0.00000000e+00+0.j, -0.00000000e+00-0.j,  0.00000000e+00+0.j,\n",
       "         -0.00000000e+00-0.j,  0.00000000e+00+0.j, -0.00000000e+00-0.j,\n",
       "         -0.00000000e+00-0.j,  0.00000000e+00+0.j,  0.00000000e+00+0.j,\n",
       "         -0.00000000e+00-0.j,  0.00000000e+00+0.j,  0.00000000e+00+0.j,\n",
       "         -0.00000000e+00-0.j,  0.00000000e+00+0.j,  1.00000000e+00+0.j,\n",
       "          0.00000000e+00+0.j],\n",
       "        [ 0.00000000e+00+0.j, -0.00000000e+00-0.j,  0.00000000e+00+0.j,\n",
       "         -0.00000000e+00-0.j, -2.70598050e-01+0.j,  5.00000000e-01+0.j,\n",
       "          5.00000000e-01+0.j, -6.53281482e-01+0.j,  1.15117768e-16+0.j,\n",
       "         -2.41031462e-02-0.j, -1.16495802e-02+0.j, -3.29346817e-01+0.j,\n",
       "         -1.68858034e-02-0.j,  2.44465271e-16+0.j,  0.00000000e+00+0.j,\n",
       "          0.00000000e+00+0.j],\n",
       "        [ 0.00000000e+00+0.j, -0.00000000e+00-0.j,  0.00000000e+00+0.j,\n",
       "         -0.00000000e+00-0.j,  6.53281482e-01+0.j, -5.00000000e-01-0.j,\n",
       "          5.00000000e-01-0.j, -2.70598050e-01+0.j, -6.48623851e-17+0.j,\n",
       "          5.81901425e-02-0.j, -1.16495802e-02+0.j,  3.29346817e-01+0.j,\n",
       "         -6.99432879e-03-0.j, -3.40284445e-17+0.j,  0.00000000e+00+0.j,\n",
       "          0.00000000e+00+0.j],\n",
       "        [ 0.00000000e+00+0.j, -0.00000000e+00-0.j,  0.00000000e+00+0.j,\n",
       "         -0.00000000e+00-0.j, -2.51221546e-18+0.j,  1.12067043e-17-0.j,\n",
       "         -1.12067043e-17-0.j,  3.53495541e-17+0.j, -1.49429245e-01+0.j,\n",
       "          2.69522435e-01-0.j,  4.08137466e-01+0.j, -1.03615487e-16+0.j,\n",
       "          6.53063217e-01+0.j,  5.57677536e-01+0.j,  0.00000000e+00+0.j,\n",
       "          0.00000000e+00+0.j],\n",
       "        [ 0.00000000e+00+0.j, -0.00000000e+00-0.j,  0.00000000e+00+0.j,\n",
       "         -0.00000000e+00-0.j, -6.53281482e-01+0.j, -5.00000000e-01-0.j,\n",
       "          5.00000000e-01-0.j,  2.70598050e-01+0.j,  9.23890847e-17+0.j,\n",
       "         -5.81901425e-02-0.j, -1.16495802e-02+0.j,  3.29346817e-01+0.j,\n",
       "          6.99432879e-03-0.j, -1.08920882e-16+0.j,  0.00000000e+00+0.j,\n",
       "          0.00000000e+00+0.j],\n",
       "        [ 0.00000000e+00+0.j, -0.00000000e+00-0.j,  0.00000000e+00+0.j,\n",
       "         -0.00000000e+00-0.j, -1.21778850e-17+0.j,  5.43241447e-17-0.j,\n",
       "         -5.43241447e-17-0.j,  1.71355846e-16+0.j,  5.57677536e-01+0.j,\n",
       "         -6.50684718e-01-0.j,  4.08137466e-01+0.j,  1.94165302e-16+0.j,\n",
       "          2.70507641e-01-0.j, -1.49429245e-01+0.j,  0.00000000e+00+0.j,\n",
       "          0.00000000e+00+0.j],\n",
       "        [ 0.00000000e+00+0.j, -0.00000000e+00-0.j,  0.00000000e+00+0.j,\n",
       "         -0.00000000e+00-0.j, -1.47510008e-18+0.j,  6.58025182e-18-0.j,\n",
       "         -6.58025182e-18-0.j,  2.07562333e-17+0.j, -4.08248290e-01+0.j,\n",
       "         -9.32462575e-17-0.j,  4.08137466e-01+0.j,  5.32035100e-01+0.j,\n",
       "          4.50932037e-17-0.j, -4.08248290e-01+0.j,  0.00000000e+00+0.j,\n",
       "          0.00000000e+00+0.j],\n",
       "        [-2.70598050e-01+0.j,  5.00000000e-01+0.j,  5.00000000e-01+0.j,\n",
       "          6.53281482e-01+0.j,  0.00000000e+00+0.j, -0.00000000e+00-0.j,\n",
       "         -0.00000000e+00-0.j,  0.00000000e+00+0.j,  0.00000000e+00+0.j,\n",
       "         -0.00000000e+00-0.j,  0.00000000e+00+0.j,  0.00000000e+00+0.j,\n",
       "         -0.00000000e+00-0.j,  0.00000000e+00+0.j,  0.00000000e+00+0.j,\n",
       "          0.00000000e+00+0.j],\n",
       "        [ 0.00000000e+00+0.j, -0.00000000e+00-0.j,  0.00000000e+00+0.j,\n",
       "         -0.00000000e+00-0.j,  2.70598050e-01+0.j,  5.00000000e-01-0.j,\n",
       "          5.00000000e-01-0.j,  6.53281482e-01+0.j, -7.41056787e-17+0.j,\n",
       "          2.41031462e-02-0.j, -1.16495802e-02+0.j, -3.29346817e-01+0.j,\n",
       "          1.68858034e-02-0.j, -9.46179783e-17+0.j,  0.00000000e+00+0.j,\n",
       "          0.00000000e+00+0.j],\n",
       "        [ 0.00000000e+00+0.j, -0.00000000e+00-0.j,  0.00000000e+00+0.j,\n",
       "         -0.00000000e+00-0.j, -6.86350028e-18+0.j,  3.06172854e-17-0.j,\n",
       "         -3.06172854e-17-0.j,  9.65767778e-17+0.j, -4.08248290e-01+0.j,\n",
       "          2.46299982e-17-0.j,  4.08137466e-01+0.j, -5.32035100e-01+0.j,\n",
       "          1.10018926e-16-0.j, -4.08248290e-01+0.j,  0.00000000e+00+0.j,\n",
       "          0.00000000e+00+0.j],\n",
       "        [ 0.00000000e+00+0.j, -0.00000000e+00-0.j,  0.00000000e+00+0.j,\n",
       "         -0.00000000e+00-0.j,  9.37571574e-18+0.j, -4.18239897e-17-0.j,\n",
       "          4.18239897e-17-0.j, -1.31926332e-16+0.j,  5.57677536e-01+0.j,\n",
       "          6.50684718e-01+0.j,  4.08137466e-01+0.j,  4.97784902e-17+0.j,\n",
       "         -2.70507641e-01-0.j, -1.49429245e-01+0.j,  0.00000000e+00+0.j,\n",
       "          0.00000000e+00+0.j],\n",
       "        [ 6.53281482e-01+0.j, -5.00000000e-01-0.j,  5.00000000e-01+0.j,\n",
       "          2.70598050e-01-0.j,  0.00000000e+00+0.j, -0.00000000e+00-0.j,\n",
       "         -0.00000000e+00-0.j,  0.00000000e+00+0.j,  0.00000000e+00+0.j,\n",
       "         -0.00000000e+00-0.j,  0.00000000e+00+0.j,  0.00000000e+00+0.j,\n",
       "         -0.00000000e+00-0.j,  0.00000000e+00+0.j,  0.00000000e+00+0.j,\n",
       "          0.00000000e+00+0.j],\n",
       "        [ 0.00000000e+00+0.j, -0.00000000e+00-0.j,  0.00000000e+00+0.j,\n",
       "         -0.00000000e+00-0.j, -2.51221546e-18+0.j,  1.12067043e-17-0.j,\n",
       "         -1.12067043e-17-0.j,  3.53495541e-17+0.j, -1.49429245e-01+0.j,\n",
       "         -2.69522435e-01-0.j,  4.08137466e-01+0.j,  3.84551271e-17+0.j,\n",
       "         -6.53063217e-01-0.j,  5.57677536e-01+0.j,  0.00000000e+00+0.j,\n",
       "          0.00000000e+00+0.j],\n",
       "        [-6.53281482e-01+0.j, -5.00000000e-01-0.j,  5.00000000e-01+0.j,\n",
       "         -2.70598050e-01-0.j,  0.00000000e+00+0.j, -0.00000000e+00-0.j,\n",
       "         -0.00000000e+00-0.j,  0.00000000e+00+0.j,  0.00000000e+00+0.j,\n",
       "         -0.00000000e+00-0.j,  0.00000000e+00+0.j,  0.00000000e+00+0.j,\n",
       "         -0.00000000e+00-0.j,  0.00000000e+00+0.j,  0.00000000e+00+0.j,\n",
       "          0.00000000e+00+0.j],\n",
       "        [ 2.70598050e-01+0.j,  5.00000000e-01-0.j,  5.00000000e-01+0.j,\n",
       "         -6.53281482e-01-0.j,  0.00000000e+00+0.j, -0.00000000e+00-0.j,\n",
       "         -0.00000000e+00-0.j,  0.00000000e+00+0.j,  0.00000000e+00+0.j,\n",
       "         -0.00000000e+00-0.j,  0.00000000e+00+0.j,  0.00000000e+00+0.j,\n",
       "         -0.00000000e+00-0.j,  0.00000000e+00+0.j,  0.00000000e+00+0.j,\n",
       "          0.00000000e+00+0.j],\n",
       "        [ 0.00000000e+00+0.j, -0.00000000e+00-0.j,  0.00000000e+00+0.j,\n",
       "         -0.00000000e+00-0.j,  0.00000000e+00+0.j, -0.00000000e+00-0.j,\n",
       "         -0.00000000e+00-0.j,  0.00000000e+00+0.j,  0.00000000e+00+0.j,\n",
       "         -0.00000000e+00-0.j,  0.00000000e+00+0.j,  0.00000000e+00+0.j,\n",
       "         -0.00000000e+00-0.j,  0.00000000e+00+0.j,  0.00000000e+00+0.j,\n",
       "          1.00000000e+00+0.j]]))"
      ]
     },
     "execution_count": 22,
     "metadata": {},
     "output_type": "execute_result"
    }
   ],
   "source": [
    "np.linalg.eig(m)\n",
    "\n"
   ]
  },
  {
   "cell_type": "code",
   "execution_count": 33,
   "id": "8d61fa0b",
   "metadata": {},
   "outputs": [
    {
     "data": {
      "text/plain": [
       "(array([-6.46410162-8.09663849e-17j, -3.82842712-1.11022302e-16j,\n",
       "        -3.82842712-2.77555756e-17j, -3.82842712+9.22861639e-18j,\n",
       "         3.        -5.55111512e-17j,  3.        -3.47329756e-17j]),\n",
       " array([[-5.90393776e-17-8.71859583e-20j,  1.90473124e-17+3.85044925e-18j,\n",
       "         -2.31760063e-17-1.42434398e-17j, -7.68610431e-17+8.32448516e-17j,\n",
       "          1.15337495e-01-1.39856855e-01j, -1.38938626e-02-1.72198785e-01j],\n",
       "        [ 3.85084596e-17+7.43025931e-17j,  5.52078316e-02+1.44417619e-02j,\n",
       "         -6.30671962e-02-7.78469929e-02j,  2.16141557e-01-1.14362141e-01j,\n",
       "         -1.94571132e-01+1.57731791e-01j, -1.54853928e-01+1.88141063e-01j],\n",
       "        [ 6.25323628e-17+1.18577136e-16j, -1.33283496e-01-3.48654974e-02j,\n",
       "          1.52257680e-01+1.87939266e-01j, -5.21811877e-01+2.76094632e-01j,\n",
       "         -1.94571132e-01+1.57731791e-01j, -1.54853928e-01+1.88141063e-01j],\n",
       "        [ 2.91731052e-02+1.46553844e-01j, -1.64842075e-01-1.81844466e-01j,\n",
       "          6.10699887e-02+4.90838441e-02j,  8.29385636e-02-1.36831765e-02j,\n",
       "          1.62342132e-01+8.63661773e-02j, -1.69469334e-01+1.40793072e-01j],\n",
       "        [ 4.88594744e-17-2.92507041e-17j,  1.33283496e-01+3.48654974e-02j,\n",
       "         -1.52257680e-01-1.87939266e-01j,  5.21811877e-01-2.76094632e-01j,\n",
       "         -1.94571132e-01+1.57731791e-01j, -1.54853928e-01+1.88141063e-01j],\n",
       "        [-1.08875511e-01-5.46946393e-01j,  3.97963973e-01+4.39011377e-01j,\n",
       "         -1.47435995e-01-1.18498882e-01j, -2.00231405e-01+3.30341102e-02j,\n",
       "          1.62342132e-01+8.63661773e-02j, -1.69469334e-01+1.40793072e-01j],\n",
       "        [ 7.97024057e-02+4.00392549e-01j,  7.36567507e-17+1.52106034e-16j,\n",
       "          1.19728416e-16+2.06485699e-16j, -1.52641844e-17-5.79819606e-17j,\n",
       "          1.62342132e-01+8.63661773e-02j, -1.69469334e-01+1.40793072e-01j],\n",
       "        [ 2.27955196e-17-7.01127505e-17j,  2.45272356e-02-9.55245024e-02j,\n",
       "          5.34376321e-02-2.32790316e-01j, -6.87947866e-02-4.03568535e-02j,\n",
       "          2.29406907e-01+2.04964160e-01j,  9.51290429e-02-6.16374774e-02j],\n",
       "        [ 7.32892109e-18+1.61038006e-17j, -5.52078316e-02-1.44417619e-02j,\n",
       "          6.30671962e-02+7.78469929e-02j, -2.16141557e-01+1.14362141e-01j,\n",
       "         -1.94571132e-01+1.57731791e-01j, -1.54853928e-01+1.88141063e-01j],\n",
       "        [ 7.97024057e-02+4.00392549e-01j, -3.79072687e-17-6.14387684e-17j,\n",
       "         -1.07357148e-16-1.62728455e-16j, -2.52393339e-17-7.29670719e-17j,\n",
       "          1.62342132e-01+8.63661773e-02j, -1.69469334e-01+1.40793072e-01j],\n",
       "        [-1.08875511e-01-5.46946393e-01j, -3.97963973e-01-4.39011377e-01j,\n",
       "          1.47435995e-01+1.18498882e-01j,  2.00231405e-01-3.30341102e-02j,\n",
       "          1.62342132e-01+8.63661773e-02j, -1.69469334e-01+1.40793072e-01j],\n",
       "        [ 2.61182295e-17+1.35335410e-16j, -5.92139848e-02+2.30616549e-01j,\n",
       "         -1.29009856e-01+5.62005539e-01j,  1.66085307e-01+9.74300631e-02j,\n",
       "          2.29406907e-01+2.04964160e-01j,  9.51290429e-02-6.16374774e-02j],\n",
       "        [ 2.91731052e-02+1.46553844e-01j,  1.64842075e-01+1.81844466e-01j,\n",
       "         -6.10699887e-02-4.90838441e-02j, -8.29385636e-02+1.36831765e-02j,\n",
       "          1.62342132e-01+8.63661773e-02j, -1.69469334e-01+1.40793072e-01j],\n",
       "        [ 9.44703694e-17-2.54891849e-16j,  5.92139848e-02-2.30616549e-01j,\n",
       "          1.29009856e-01-5.62005539e-01j, -1.66085307e-01-9.74300631e-02j,\n",
       "          2.29406907e-01+2.04964160e-01j,  9.51290429e-02-6.16374774e-02j],\n",
       "        [-8.10711131e-18+1.26611411e-16j, -2.45272356e-02+9.55245024e-02j,\n",
       "         -5.34376321e-02+2.32790316e-01j,  6.87947866e-02+4.03568535e-02j,\n",
       "          2.29406907e-01+2.04964160e-01j,  9.51290429e-02-6.16374774e-02j],\n",
       "        [ 1.13729920e-16-4.93038311e-17j,  2.08165347e-17+6.78516672e-19j,\n",
       "         -2.02225327e-17-1.05500144e-17j,  6.00841147e-17-3.07691391e-17j,\n",
       "          2.73949503e-01+2.44344372e-01j, -3.43710467e-01-5.21402282e-01j]]))"
      ]
     },
     "execution_count": 33,
     "metadata": {},
     "output_type": "execute_result"
    }
   ],
   "source": [
    "import scipy.sparse.linalg as lin\n",
    "\n",
    "sparse_hamiltonian = scp.sparse.csr_matrix(m)\n",
    "scp.sparse.linalg.eigs(sparse_hamiltonian)"
   ]
  }
 ],
 "metadata": {
  "kernelspec": {
   "display_name": "Python 3 (ipykernel)",
   "language": "python",
   "name": "python3"
  },
  "language_info": {
   "codemirror_mode": {
    "name": "ipython",
    "version": 3
   },
   "file_extension": ".py",
   "mimetype": "text/x-python",
   "name": "python",
   "nbconvert_exporter": "python",
   "pygments_lexer": "ipython3",
   "version": "3.10.9"
  }
 },
 "nbformat": 4,
 "nbformat_minor": 5
}
